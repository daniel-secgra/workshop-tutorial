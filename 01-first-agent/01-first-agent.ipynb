{
 "cells": [
  {
   "cell_type": "markdown",
   "id": "8e394456",
   "metadata": {},
   "source": [
    "# Quickstart Guide for Strands Agents\n",
    "\n",
    "Strands Agents is a powerful framework for building AI agents that can interact with AWS services and perform complex tasks. This quickstart guide will help you get started with creating your first Strands agent.\n",
    "\n",
    "## Prerequisites\n",
    "\n",
    "- Python 3.10 or later\n",
    "- AWS account configured with appropriate permissions\n",
    "- Basic understanding of Python programming\n",
    "\n",
    "Lets get started !"
   ]
  },
  {
   "cell_type": "code",
   "execution_count": null,
   "id": "5f7b62fd",
   "metadata": {},
   "outputs": [],
   "source": [
    "# Install Strands using pip\n",
    "\n",
    "!pip install strands-agents strands-agents-tools"
   ]
  },
  {
   "cell_type": "markdown",
   "id": "79a45632",
   "metadata": {
    "vscode": {
     "languageId": "plaintext"
    }
   },
   "source": [
    "\n",
    "## Creating Your First Agent\n",
    "\n",
    "Lets get an overview of the agentic components needed.\n",
    "\n",
    "### 1. Create a simple Agent:\n",
    "\n",
    "This will create an agent with the default model provider, [Amazon Bedrock](https://aws.amazon.com/bedrock/), and the default model, Claude 3.7 Sonnet, in the region of your AWS setup. While the agent runs in the same local environment as it is being invoked, Amazon Bedrock models will run in an AWS account and your agent will invoke the model in the cloud account. The architecture looks as following:\n",
    "\n",
    "<div style=\"text-align:center\">\n",
    "    <img src=\"images/simple_agent.png\" width=\"75%\" />\n",
    "</div>"
   ]
  },
  {
   "cell_type": "code",
   "execution_count": 1,
   "id": "8d549346",
   "metadata": {},
   "outputs": [
    {
     "ename": "NoCredentialsError",
     "evalue": "Unable to locate credentials",
     "output_type": "error",
     "traceback": [
      "\u001b[31m---------------------------------------------------------------------------\u001b[39m",
      "\u001b[31mNoCredentialsError\u001b[39m                        Traceback (most recent call last)",
      "\u001b[36mCell\u001b[39m\u001b[36m \u001b[39m\u001b[32mIn[1]\u001b[39m\u001b[32m, line 12\u001b[39m\n\u001b[32m      6\u001b[39m agent = Agent(\n\u001b[32m      7\u001b[39m     model=\u001b[33m\"\u001b[39m\u001b[33mus.anthropic.claude-3-7-sonnet-20250219-v1:0\u001b[39m\u001b[33m\"\u001b[39m,  \u001b[38;5;66;03m# Optional: Specify the model ID\u001b[39;00m\n\u001b[32m      8\u001b[39m     system_prompt=\u001b[33m\"\u001b[39m\u001b[33mYou are a helpful assistant that provides concise responses.\u001b[39m\u001b[33m\"\u001b[39m\n\u001b[32m      9\u001b[39m )\n\u001b[32m     11\u001b[39m \u001b[38;5;66;03m# Send a message to the agent\u001b[39;00m\n\u001b[32m---> \u001b[39m\u001b[32m12\u001b[39m response = \u001b[43magent\u001b[49m\u001b[43m(\u001b[49m\u001b[33;43m\"\u001b[39;49m\u001b[33;43mHello! Tell me a programming joke.\u001b[39;49m\u001b[33;43m\"\u001b[39;49m\u001b[43m)\u001b[49m\n",
      "\u001b[36mFile \u001b[39m\u001b[32m~/Documents/Tutorial/.venv/lib/python3.12/site-packages/strands/agent/agent.py:419\u001b[39m, in \u001b[36mAgent.__call__\u001b[39m\u001b[34m(self, prompt, invocation_state, **kwargs)\u001b[39m\n\u001b[32m    417\u001b[39m \u001b[38;5;28;01mwith\u001b[39;00m ThreadPoolExecutor() \u001b[38;5;28;01mas\u001b[39;00m executor:\n\u001b[32m    418\u001b[39m     future = executor.submit(execute)\n\u001b[32m--> \u001b[39m\u001b[32m419\u001b[39m     \u001b[38;5;28;01mreturn\u001b[39;00m \u001b[43mfuture\u001b[49m\u001b[43m.\u001b[49m\u001b[43mresult\u001b[49m\u001b[43m(\u001b[49m\u001b[43m)\u001b[49m\n",
      "\u001b[36mFile \u001b[39m\u001b[32m~/.local/share/uv/python/cpython-3.12.3-macos-aarch64-none/lib/python3.12/concurrent/futures/_base.py:456\u001b[39m, in \u001b[36mFuture.result\u001b[39m\u001b[34m(self, timeout)\u001b[39m\n\u001b[32m    454\u001b[39m     \u001b[38;5;28;01mraise\u001b[39;00m CancelledError()\n\u001b[32m    455\u001b[39m \u001b[38;5;28;01melif\u001b[39;00m \u001b[38;5;28mself\u001b[39m._state == FINISHED:\n\u001b[32m--> \u001b[39m\u001b[32m456\u001b[39m     \u001b[38;5;28;01mreturn\u001b[39;00m \u001b[38;5;28;43mself\u001b[39;49m\u001b[43m.\u001b[49m\u001b[43m__get_result\u001b[49m\u001b[43m(\u001b[49m\u001b[43m)\u001b[49m\n\u001b[32m    457\u001b[39m \u001b[38;5;28;01melse\u001b[39;00m:\n\u001b[32m    458\u001b[39m     \u001b[38;5;28;01mraise\u001b[39;00m \u001b[38;5;167;01mTimeoutError\u001b[39;00m()\n",
      "\u001b[36mFile \u001b[39m\u001b[32m~/.local/share/uv/python/cpython-3.12.3-macos-aarch64-none/lib/python3.12/concurrent/futures/_base.py:401\u001b[39m, in \u001b[36mFuture.__get_result\u001b[39m\u001b[34m(self)\u001b[39m\n\u001b[32m    399\u001b[39m \u001b[38;5;28;01mif\u001b[39;00m \u001b[38;5;28mself\u001b[39m._exception:\n\u001b[32m    400\u001b[39m     \u001b[38;5;28;01mtry\u001b[39;00m:\n\u001b[32m--> \u001b[39m\u001b[32m401\u001b[39m         \u001b[38;5;28;01mraise\u001b[39;00m \u001b[38;5;28mself\u001b[39m._exception\n\u001b[32m    402\u001b[39m     \u001b[38;5;28;01mfinally\u001b[39;00m:\n\u001b[32m    403\u001b[39m         \u001b[38;5;66;03m# Break a reference cycle with the exception in self._exception\u001b[39;00m\n\u001b[32m    404\u001b[39m         \u001b[38;5;28mself\u001b[39m = \u001b[38;5;28;01mNone\u001b[39;00m\n",
      "\u001b[36mFile \u001b[39m\u001b[32m~/.local/share/uv/python/cpython-3.12.3-macos-aarch64-none/lib/python3.12/concurrent/futures/thread.py:58\u001b[39m, in \u001b[36m_WorkItem.run\u001b[39m\u001b[34m(self)\u001b[39m\n\u001b[32m     55\u001b[39m     \u001b[38;5;28;01mreturn\u001b[39;00m\n\u001b[32m     57\u001b[39m \u001b[38;5;28;01mtry\u001b[39;00m:\n\u001b[32m---> \u001b[39m\u001b[32m58\u001b[39m     result = \u001b[38;5;28;43mself\u001b[39;49m\u001b[43m.\u001b[49m\u001b[43mfn\u001b[49m\u001b[43m(\u001b[49m\u001b[43m*\u001b[49m\u001b[38;5;28;43mself\u001b[39;49m\u001b[43m.\u001b[49m\u001b[43margs\u001b[49m\u001b[43m,\u001b[49m\u001b[43m \u001b[49m\u001b[43m*\u001b[49m\u001b[43m*\u001b[49m\u001b[38;5;28;43mself\u001b[39;49m\u001b[43m.\u001b[49m\u001b[43mkwargs\u001b[49m\u001b[43m)\u001b[49m\n\u001b[32m     59\u001b[39m \u001b[38;5;28;01mexcept\u001b[39;00m \u001b[38;5;167;01mBaseException\u001b[39;00m \u001b[38;5;28;01mas\u001b[39;00m exc:\n\u001b[32m     60\u001b[39m     \u001b[38;5;28mself\u001b[39m.future.set_exception(exc)\n",
      "\u001b[36mFile \u001b[39m\u001b[32m~/Documents/Tutorial/.venv/lib/python3.12/site-packages/opentelemetry/instrumentation/threading/__init__.py:171\u001b[39m, in \u001b[36mThreadingInstrumentor.__wrap_thread_pool_submit.<locals>.wrapped_func\u001b[39m\u001b[34m(*func_args, **func_kwargs)\u001b[39m\n\u001b[32m    169\u001b[39m \u001b[38;5;28;01mtry\u001b[39;00m:\n\u001b[32m    170\u001b[39m     token = context.attach(otel_context)\n\u001b[32m--> \u001b[39m\u001b[32m171\u001b[39m     \u001b[38;5;28;01mreturn\u001b[39;00m \u001b[43moriginal_func\u001b[49m\u001b[43m(\u001b[49m\u001b[43m*\u001b[49m\u001b[43mfunc_args\u001b[49m\u001b[43m,\u001b[49m\u001b[43m \u001b[49m\u001b[43m*\u001b[49m\u001b[43m*\u001b[49m\u001b[43mfunc_kwargs\u001b[49m\u001b[43m)\u001b[49m\n\u001b[32m    172\u001b[39m \u001b[38;5;28;01mfinally\u001b[39;00m:\n\u001b[32m    173\u001b[39m     \u001b[38;5;28;01mif\u001b[39;00m token \u001b[38;5;129;01mis\u001b[39;00m \u001b[38;5;129;01mnot\u001b[39;00m \u001b[38;5;28;01mNone\u001b[39;00m:\n",
      "\u001b[36mFile \u001b[39m\u001b[32m~/Documents/Tutorial/.venv/lib/python3.12/site-packages/strands/agent/agent.py:415\u001b[39m, in \u001b[36mAgent.__call__.<locals>.execute\u001b[39m\u001b[34m()\u001b[39m\n\u001b[32m    414\u001b[39m \u001b[38;5;28;01mdef\u001b[39;00m\u001b[38;5;250m \u001b[39m\u001b[34mexecute\u001b[39m() -> AgentResult:\n\u001b[32m--> \u001b[39m\u001b[32m415\u001b[39m     \u001b[38;5;28;01mreturn\u001b[39;00m \u001b[43masyncio\u001b[49m\u001b[43m.\u001b[49m\u001b[43mrun\u001b[49m\u001b[43m(\u001b[49m\u001b[38;5;28;43mself\u001b[39;49m\u001b[43m.\u001b[49m\u001b[43minvoke_async\u001b[49m\u001b[43m(\u001b[49m\u001b[43mprompt\u001b[49m\u001b[43m,\u001b[49m\u001b[43m \u001b[49m\u001b[43minvocation_state\u001b[49m\u001b[43m=\u001b[49m\u001b[43minvocation_state\u001b[49m\u001b[43m,\u001b[49m\u001b[43m \u001b[49m\u001b[43m*\u001b[49m\u001b[43m*\u001b[49m\u001b[43mkwargs\u001b[49m\u001b[43m)\u001b[49m\u001b[43m)\u001b[49m\n",
      "\u001b[36mFile \u001b[39m\u001b[32m~/.local/share/uv/python/cpython-3.12.3-macos-aarch64-none/lib/python3.12/asyncio/runners.py:194\u001b[39m, in \u001b[36mrun\u001b[39m\u001b[34m(main, debug, loop_factory)\u001b[39m\n\u001b[32m    190\u001b[39m     \u001b[38;5;28;01mraise\u001b[39;00m \u001b[38;5;167;01mRuntimeError\u001b[39;00m(\n\u001b[32m    191\u001b[39m         \u001b[33m\"\u001b[39m\u001b[33masyncio.run() cannot be called from a running event loop\u001b[39m\u001b[33m\"\u001b[39m)\n\u001b[32m    193\u001b[39m \u001b[38;5;28;01mwith\u001b[39;00m Runner(debug=debug, loop_factory=loop_factory) \u001b[38;5;28;01mas\u001b[39;00m runner:\n\u001b[32m--> \u001b[39m\u001b[32m194\u001b[39m     \u001b[38;5;28;01mreturn\u001b[39;00m \u001b[43mrunner\u001b[49m\u001b[43m.\u001b[49m\u001b[43mrun\u001b[49m\u001b[43m(\u001b[49m\u001b[43mmain\u001b[49m\u001b[43m)\u001b[49m\n",
      "\u001b[36mFile \u001b[39m\u001b[32m~/.local/share/uv/python/cpython-3.12.3-macos-aarch64-none/lib/python3.12/asyncio/runners.py:118\u001b[39m, in \u001b[36mRunner.run\u001b[39m\u001b[34m(self, coro, context)\u001b[39m\n\u001b[32m    116\u001b[39m \u001b[38;5;28mself\u001b[39m._interrupt_count = \u001b[32m0\u001b[39m\n\u001b[32m    117\u001b[39m \u001b[38;5;28;01mtry\u001b[39;00m:\n\u001b[32m--> \u001b[39m\u001b[32m118\u001b[39m     \u001b[38;5;28;01mreturn\u001b[39;00m \u001b[38;5;28;43mself\u001b[39;49m\u001b[43m.\u001b[49m\u001b[43m_loop\u001b[49m\u001b[43m.\u001b[49m\u001b[43mrun_until_complete\u001b[49m\u001b[43m(\u001b[49m\u001b[43mtask\u001b[49m\u001b[43m)\u001b[49m\n\u001b[32m    119\u001b[39m \u001b[38;5;28;01mexcept\u001b[39;00m exceptions.CancelledError:\n\u001b[32m    120\u001b[39m     \u001b[38;5;28;01mif\u001b[39;00m \u001b[38;5;28mself\u001b[39m._interrupt_count > \u001b[32m0\u001b[39m:\n",
      "\u001b[36mFile \u001b[39m\u001b[32m~/.local/share/uv/python/cpython-3.12.3-macos-aarch64-none/lib/python3.12/asyncio/base_events.py:687\u001b[39m, in \u001b[36mBaseEventLoop.run_until_complete\u001b[39m\u001b[34m(self, future)\u001b[39m\n\u001b[32m    684\u001b[39m \u001b[38;5;28;01mif\u001b[39;00m \u001b[38;5;129;01mnot\u001b[39;00m future.done():\n\u001b[32m    685\u001b[39m     \u001b[38;5;28;01mraise\u001b[39;00m \u001b[38;5;167;01mRuntimeError\u001b[39;00m(\u001b[33m'\u001b[39m\u001b[33mEvent loop stopped before Future completed.\u001b[39m\u001b[33m'\u001b[39m)\n\u001b[32m--> \u001b[39m\u001b[32m687\u001b[39m \u001b[38;5;28;01mreturn\u001b[39;00m \u001b[43mfuture\u001b[49m\u001b[43m.\u001b[49m\u001b[43mresult\u001b[49m\u001b[43m(\u001b[49m\u001b[43m)\u001b[49m\n",
      "\u001b[36mFile \u001b[39m\u001b[32m~/Documents/Tutorial/.venv/lib/python3.12/site-packages/strands/agent/agent.py:450\u001b[39m, in \u001b[36mAgent.invoke_async\u001b[39m\u001b[34m(self, prompt, invocation_state, **kwargs)\u001b[39m\n\u001b[32m    424\u001b[39m \u001b[38;5;250m\u001b[39m\u001b[33;03m\"\"\"Process a natural language prompt through the agent's event loop.\u001b[39;00m\n\u001b[32m    425\u001b[39m \n\u001b[32m    426\u001b[39m \u001b[33;03mThis method implements the conversational interface with multiple input patterns:\u001b[39;00m\n\u001b[32m   (...)\u001b[39m\u001b[32m    447\u001b[39m \u001b[33;03m        - state: The final state of the event loop\u001b[39;00m\n\u001b[32m    448\u001b[39m \u001b[33;03m\"\"\"\u001b[39;00m\n\u001b[32m    449\u001b[39m events = \u001b[38;5;28mself\u001b[39m.stream_async(prompt, invocation_state=invocation_state, **kwargs)\n\u001b[32m--> \u001b[39m\u001b[32m450\u001b[39m \u001b[38;5;28;01masync\u001b[39;00m \u001b[38;5;28;01mfor\u001b[39;00m event \u001b[38;5;129;01min\u001b[39;00m events:\n\u001b[32m    451\u001b[39m     _ = event\n\u001b[32m    453\u001b[39m \u001b[38;5;28;01mreturn\u001b[39;00m cast(AgentResult, event[\u001b[33m\"\u001b[39m\u001b[33mresult\u001b[39m\u001b[33m\"\u001b[39m])\n",
      "\u001b[36mFile \u001b[39m\u001b[32m~/Documents/Tutorial/.venv/lib/python3.12/site-packages/strands/agent/agent.py:611\u001b[39m, in \u001b[36mAgent.stream_async\u001b[39m\u001b[34m(self, prompt, invocation_state, **kwargs)\u001b[39m\n\u001b[32m    608\u001b[39m \u001b[38;5;28;01mtry\u001b[39;00m:\n\u001b[32m    609\u001b[39m     events = \u001b[38;5;28mself\u001b[39m._run_loop(messages, invocation_state=merged_state)\n\u001b[32m--> \u001b[39m\u001b[32m611\u001b[39m     \u001b[38;5;28;01masync\u001b[39;00m \u001b[38;5;28;01mfor\u001b[39;00m event \u001b[38;5;129;01min\u001b[39;00m events:\n\u001b[32m    612\u001b[39m         event.prepare(invocation_state=merged_state)\n\u001b[32m    614\u001b[39m         \u001b[38;5;28;01mif\u001b[39;00m event.is_callback_event:\n",
      "\u001b[36mFile \u001b[39m\u001b[32m~/Documents/Tutorial/.venv/lib/python3.12/site-packages/strands/agent/agent.py:681\u001b[39m, in \u001b[36mAgent._run_loop\u001b[39m\u001b[34m(self, messages, invocation_state)\u001b[39m\n\u001b[32m    679\u001b[39m \u001b[38;5;66;03m# Execute the event loop cycle with retry logic for context limits\u001b[39;00m\n\u001b[32m    680\u001b[39m events = \u001b[38;5;28mself\u001b[39m._execute_event_loop_cycle(invocation_state)\n\u001b[32m--> \u001b[39m\u001b[32m681\u001b[39m \u001b[38;5;28;01masync\u001b[39;00m \u001b[38;5;28;01mfor\u001b[39;00m event \u001b[38;5;129;01min\u001b[39;00m events:\n\u001b[32m    682\u001b[39m     \u001b[38;5;66;03m# Signal from the model provider that the message sent by the user should be redacted,\u001b[39;00m\n\u001b[32m    683\u001b[39m     \u001b[38;5;66;03m# likely due to a guardrail.\u001b[39;00m\n\u001b[32m    684\u001b[39m     \u001b[38;5;28;01mif\u001b[39;00m (\n\u001b[32m    685\u001b[39m         \u001b[38;5;28misinstance\u001b[39m(event, ModelStreamChunkEvent)\n\u001b[32m    686\u001b[39m         \u001b[38;5;129;01mand\u001b[39;00m event.chunk\n\u001b[32m    687\u001b[39m         \u001b[38;5;129;01mand\u001b[39;00m event.chunk.get(\u001b[33m\"\u001b[39m\u001b[33mredactContent\u001b[39m\u001b[33m\"\u001b[39m)\n\u001b[32m    688\u001b[39m         \u001b[38;5;129;01mand\u001b[39;00m event.chunk[\u001b[33m\"\u001b[39m\u001b[33mredactContent\u001b[39m\u001b[33m\"\u001b[39m].get(\u001b[33m\"\u001b[39m\u001b[33mredactUserContentMessage\u001b[39m\u001b[33m\"\u001b[39m)\n\u001b[32m    689\u001b[39m     ):\n\u001b[32m    690\u001b[39m         \u001b[38;5;28mself\u001b[39m.messages[-\u001b[32m1\u001b[39m][\u001b[33m\"\u001b[39m\u001b[33mcontent\u001b[39m\u001b[33m\"\u001b[39m] = [\n\u001b[32m    691\u001b[39m             {\u001b[33m\"\u001b[39m\u001b[33mtext\u001b[39m\u001b[33m\"\u001b[39m: \u001b[38;5;28mstr\u001b[39m(event.chunk[\u001b[33m\"\u001b[39m\u001b[33mredactContent\u001b[39m\u001b[33m\"\u001b[39m][\u001b[33m\"\u001b[39m\u001b[33mredactUserContentMessage\u001b[39m\u001b[33m\"\u001b[39m])}\n\u001b[32m    692\u001b[39m         ]\n",
      "\u001b[36mFile \u001b[39m\u001b[32m~/Documents/Tutorial/.venv/lib/python3.12/site-packages/strands/agent/agent.py:720\u001b[39m, in \u001b[36mAgent._execute_event_loop_cycle\u001b[39m\u001b[34m(self, invocation_state)\u001b[39m\n\u001b[32m    714\u001b[39m \u001b[38;5;28;01mtry\u001b[39;00m:\n\u001b[32m    715\u001b[39m     \u001b[38;5;66;03m# Execute the main event loop cycle\u001b[39;00m\n\u001b[32m    716\u001b[39m     events = event_loop_cycle(\n\u001b[32m    717\u001b[39m         agent=\u001b[38;5;28mself\u001b[39m,\n\u001b[32m    718\u001b[39m         invocation_state=invocation_state,\n\u001b[32m    719\u001b[39m     )\n\u001b[32m--> \u001b[39m\u001b[32m720\u001b[39m     \u001b[38;5;28;01masync\u001b[39;00m \u001b[38;5;28;01mfor\u001b[39;00m event \u001b[38;5;129;01min\u001b[39;00m events:\n\u001b[32m    721\u001b[39m         \u001b[38;5;28;01myield\u001b[39;00m event\n\u001b[32m    723\u001b[39m \u001b[38;5;28;01mexcept\u001b[39;00m ContextWindowOverflowException \u001b[38;5;28;01mas\u001b[39;00m e:\n\u001b[32m    724\u001b[39m     \u001b[38;5;66;03m# Try reducing the context size and retrying\u001b[39;00m\n",
      "\u001b[36mFile \u001b[39m\u001b[32m~/Documents/Tutorial/.venv/lib/python3.12/site-packages/strands/event_loop/event_loop.py:117\u001b[39m, in \u001b[36mevent_loop_cycle\u001b[39m\u001b[34m(agent, invocation_state)\u001b[39m\n\u001b[32m    115\u001b[39m \u001b[38;5;28;01melse\u001b[39;00m:\n\u001b[32m    116\u001b[39m     model_events = _handle_model_execution(agent, cycle_span, cycle_trace, invocation_state, tracer)\n\u001b[32m--> \u001b[39m\u001b[32m117\u001b[39m     \u001b[38;5;28;01masync\u001b[39;00m \u001b[38;5;28;01mfor\u001b[39;00m model_event \u001b[38;5;129;01min\u001b[39;00m model_events:\n\u001b[32m    118\u001b[39m         \u001b[38;5;28;01mif\u001b[39;00m \u001b[38;5;129;01mnot\u001b[39;00m \u001b[38;5;28misinstance\u001b[39m(model_event, ModelStopReason):\n\u001b[32m    119\u001b[39m             \u001b[38;5;28;01myield\u001b[39;00m model_event\n",
      "\u001b[36mFile \u001b[39m\u001b[32m~/Documents/Tutorial/.venv/lib/python3.12/site-packages/strands/event_loop/event_loop.py:324\u001b[39m, in \u001b[36m_handle_model_execution\u001b[39m\u001b[34m(agent, cycle_span, cycle_trace, invocation_state, tracer)\u001b[39m\n\u001b[32m    322\u001b[39m                 \u001b[38;5;28;01myield\u001b[39;00m EventLoopThrottleEvent(delay=current_delay)\n\u001b[32m    323\u001b[39m             \u001b[38;5;28;01melse\u001b[39;00m:\n\u001b[32m--> \u001b[39m\u001b[32m324\u001b[39m                 \u001b[38;5;28;01mraise\u001b[39;00m e\n\u001b[32m    326\u001b[39m \u001b[38;5;28;01mtry\u001b[39;00m:\n\u001b[32m    327\u001b[39m     \u001b[38;5;66;03m# Add message in trace and mark the end of the stream messages trace\u001b[39;00m\n\u001b[32m    328\u001b[39m     stream_trace.add_message(message)\n",
      "\u001b[36mFile \u001b[39m\u001b[32m~/Documents/Tutorial/.venv/lib/python3.12/site-packages/strands/event_loop/event_loop.py:272\u001b[39m, in \u001b[36m_handle_model_execution\u001b[39m\u001b[34m(agent, cycle_span, cycle_trace, invocation_state, tracer)\u001b[39m\n\u001b[32m    269\u001b[39m tool_specs = agent.tool_registry.get_all_tool_specs()\n\u001b[32m    271\u001b[39m \u001b[38;5;28;01mtry\u001b[39;00m:\n\u001b[32m--> \u001b[39m\u001b[32m272\u001b[39m     \u001b[38;5;28;01masync\u001b[39;00m \u001b[38;5;28;01mfor\u001b[39;00m event \u001b[38;5;129;01min\u001b[39;00m stream_messages(agent.model, agent.system_prompt, agent.messages, tool_specs):\n\u001b[32m    273\u001b[39m         \u001b[38;5;28;01myield\u001b[39;00m event\n\u001b[32m    275\u001b[39m     stop_reason, message, usage, metrics = event[\u001b[33m\"\u001b[39m\u001b[33mstop\u001b[39m\u001b[33m\"\u001b[39m]\n",
      "\u001b[36mFile \u001b[39m\u001b[32m~/Documents/Tutorial/.venv/lib/python3.12/site-packages/strands/event_loop/streaming.py:367\u001b[39m, in \u001b[36mstream_messages\u001b[39m\u001b[34m(model, system_prompt, messages, tool_specs)\u001b[39m\n\u001b[32m    364\u001b[39m start_time = time.time()\n\u001b[32m    365\u001b[39m chunks = model.stream(messages, tool_specs \u001b[38;5;28;01mif\u001b[39;00m tool_specs \u001b[38;5;28;01melse\u001b[39;00m \u001b[38;5;28;01mNone\u001b[39;00m, system_prompt)\n\u001b[32m--> \u001b[39m\u001b[32m367\u001b[39m \u001b[38;5;28;01masync\u001b[39;00m \u001b[38;5;28;01mfor\u001b[39;00m event \u001b[38;5;129;01min\u001b[39;00m process_stream(chunks, start_time):\n\u001b[32m    368\u001b[39m     \u001b[38;5;28;01myield\u001b[39;00m event\n",
      "\u001b[36mFile \u001b[39m\u001b[32m~/Documents/Tutorial/.venv/lib/python3.12/site-packages/strands/event_loop/streaming.py:316\u001b[39m, in \u001b[36mprocess_stream\u001b[39m\u001b[34m(chunks, start_time)\u001b[39m\n\u001b[32m    313\u001b[39m usage: Usage = Usage(inputTokens=\u001b[32m0\u001b[39m, outputTokens=\u001b[32m0\u001b[39m, totalTokens=\u001b[32m0\u001b[39m)\n\u001b[32m    314\u001b[39m metrics: Metrics = Metrics(latencyMs=\u001b[32m0\u001b[39m, timeToFirstByteMs=\u001b[32m0\u001b[39m)\n\u001b[32m--> \u001b[39m\u001b[32m316\u001b[39m \u001b[38;5;28;01masync\u001b[39;00m \u001b[38;5;28;01mfor\u001b[39;00m chunk \u001b[38;5;129;01min\u001b[39;00m chunks:\n\u001b[32m    317\u001b[39m     \u001b[38;5;66;03m# Track first byte time when we get first content\u001b[39;00m\n\u001b[32m    318\u001b[39m     \u001b[38;5;28;01mif\u001b[39;00m first_byte_time \u001b[38;5;129;01mis\u001b[39;00m \u001b[38;5;28;01mNone\u001b[39;00m \u001b[38;5;129;01mand\u001b[39;00m (\u001b[33m\"\u001b[39m\u001b[33mcontentBlockDelta\u001b[39m\u001b[33m\"\u001b[39m \u001b[38;5;129;01min\u001b[39;00m chunk \u001b[38;5;129;01mor\u001b[39;00m \u001b[33m\"\u001b[39m\u001b[33mcontentBlockStart\u001b[39m\u001b[33m\"\u001b[39m \u001b[38;5;129;01min\u001b[39;00m chunk):\n\u001b[32m    319\u001b[39m         first_byte_time = time.time()\n",
      "\u001b[36mFile \u001b[39m\u001b[32m~/Documents/Tutorial/.venv/lib/python3.12/site-packages/strands/models/bedrock.py:626\u001b[39m, in \u001b[36mBedrockModel.stream\u001b[39m\u001b[34m(self, messages, tool_specs, system_prompt, tool_choice, **kwargs)\u001b[39m\n\u001b[32m    622\u001b[39m         \u001b[38;5;28;01mbreak\u001b[39;00m\n\u001b[32m    624\u001b[39m     \u001b[38;5;28;01myield\u001b[39;00m event\n\u001b[32m--> \u001b[39m\u001b[32m626\u001b[39m \u001b[38;5;28;01mawait\u001b[39;00m task\n",
      "\u001b[36mFile \u001b[39m\u001b[32m~/.local/share/uv/python/cpython-3.12.3-macos-aarch64-none/lib/python3.12/asyncio/threads.py:25\u001b[39m, in \u001b[36mto_thread\u001b[39m\u001b[34m(func, *args, **kwargs)\u001b[39m\n\u001b[32m     23\u001b[39m ctx = contextvars.copy_context()\n\u001b[32m     24\u001b[39m func_call = functools.partial(ctx.run, func, *args, **kwargs)\n\u001b[32m---> \u001b[39m\u001b[32m25\u001b[39m \u001b[38;5;28;01mreturn\u001b[39;00m \u001b[38;5;28;01mawait\u001b[39;00m loop.run_in_executor(\u001b[38;5;28;01mNone\u001b[39;00m, func_call)\n",
      "\u001b[36mFile \u001b[39m\u001b[32m~/.local/share/uv/python/cpython-3.12.3-macos-aarch64-none/lib/python3.12/concurrent/futures/thread.py:58\u001b[39m, in \u001b[36m_WorkItem.run\u001b[39m\u001b[34m(self)\u001b[39m\n\u001b[32m     55\u001b[39m     \u001b[38;5;28;01mreturn\u001b[39;00m\n\u001b[32m     57\u001b[39m \u001b[38;5;28;01mtry\u001b[39;00m:\n\u001b[32m---> \u001b[39m\u001b[32m58\u001b[39m     result = \u001b[38;5;28;43mself\u001b[39;49m\u001b[43m.\u001b[49m\u001b[43mfn\u001b[49m\u001b[43m(\u001b[49m\u001b[43m*\u001b[49m\u001b[38;5;28;43mself\u001b[39;49m\u001b[43m.\u001b[49m\u001b[43margs\u001b[49m\u001b[43m,\u001b[49m\u001b[43m \u001b[49m\u001b[43m*\u001b[49m\u001b[43m*\u001b[49m\u001b[38;5;28;43mself\u001b[39;49m\u001b[43m.\u001b[49m\u001b[43mkwargs\u001b[49m\u001b[43m)\u001b[49m\n\u001b[32m     59\u001b[39m \u001b[38;5;28;01mexcept\u001b[39;00m \u001b[38;5;167;01mBaseException\u001b[39;00m \u001b[38;5;28;01mas\u001b[39;00m exc:\n\u001b[32m     60\u001b[39m     \u001b[38;5;28mself\u001b[39m.future.set_exception(exc)\n",
      "\u001b[36mFile \u001b[39m\u001b[32m~/Documents/Tutorial/.venv/lib/python3.12/site-packages/opentelemetry/instrumentation/threading/__init__.py:171\u001b[39m, in \u001b[36mThreadingInstrumentor.__wrap_thread_pool_submit.<locals>.wrapped_func\u001b[39m\u001b[34m(*func_args, **func_kwargs)\u001b[39m\n\u001b[32m    169\u001b[39m \u001b[38;5;28;01mtry\u001b[39;00m:\n\u001b[32m    170\u001b[39m     token = context.attach(otel_context)\n\u001b[32m--> \u001b[39m\u001b[32m171\u001b[39m     \u001b[38;5;28;01mreturn\u001b[39;00m \u001b[43moriginal_func\u001b[49m\u001b[43m(\u001b[49m\u001b[43m*\u001b[49m\u001b[43mfunc_args\u001b[49m\u001b[43m,\u001b[49m\u001b[43m \u001b[49m\u001b[43m*\u001b[49m\u001b[43m*\u001b[49m\u001b[43mfunc_kwargs\u001b[49m\u001b[43m)\u001b[49m\n\u001b[32m    172\u001b[39m \u001b[38;5;28;01mfinally\u001b[39;00m:\n\u001b[32m    173\u001b[39m     \u001b[38;5;28;01mif\u001b[39;00m token \u001b[38;5;129;01mis\u001b[39;00m \u001b[38;5;129;01mnot\u001b[39;00m \u001b[38;5;28;01mNone\u001b[39;00m:\n",
      "\u001b[36mFile \u001b[39m\u001b[32m~/Documents/Tutorial/.venv/lib/python3.12/site-packages/strands/models/bedrock.py:662\u001b[39m, in \u001b[36mBedrockModel._stream\u001b[39m\u001b[34m(self, callback, messages, tool_specs, system_prompt, tool_choice)\u001b[39m\n\u001b[32m    660\u001b[39m logger.debug(\u001b[33m\"\u001b[39m\u001b[33mgot response from model\u001b[39m\u001b[33m\"\u001b[39m)\n\u001b[32m    661\u001b[39m \u001b[38;5;28;01mif\u001b[39;00m streaming:\n\u001b[32m--> \u001b[39m\u001b[32m662\u001b[39m     response = \u001b[38;5;28;43mself\u001b[39;49m\u001b[43m.\u001b[49m\u001b[43mclient\u001b[49m\u001b[43m.\u001b[49m\u001b[43mconverse_stream\u001b[49m\u001b[43m(\u001b[49m\u001b[43m*\u001b[49m\u001b[43m*\u001b[49m\u001b[43mrequest\u001b[49m\u001b[43m)\u001b[49m\n\u001b[32m    663\u001b[39m     \u001b[38;5;66;03m# Track tool use events to fix stopReason for streaming responses\u001b[39;00m\n\u001b[32m    664\u001b[39m     has_tool_use = \u001b[38;5;28;01mFalse\u001b[39;00m\n",
      "\u001b[36mFile \u001b[39m\u001b[32m~/Documents/Tutorial/.venv/lib/python3.12/site-packages/botocore/client.py:602\u001b[39m, in \u001b[36mClientCreator._create_api_method.<locals>._api_call\u001b[39m\u001b[34m(self, *args, **kwargs)\u001b[39m\n\u001b[32m    598\u001b[39m     \u001b[38;5;28;01mraise\u001b[39;00m \u001b[38;5;167;01mTypeError\u001b[39;00m(\n\u001b[32m    599\u001b[39m         \u001b[33mf\u001b[39m\u001b[33m\"\u001b[39m\u001b[38;5;132;01m{\u001b[39;00mpy_operation_name\u001b[38;5;132;01m}\u001b[39;00m\u001b[33m() only accepts keyword arguments.\u001b[39m\u001b[33m\"\u001b[39m\n\u001b[32m    600\u001b[39m     )\n\u001b[32m    601\u001b[39m \u001b[38;5;66;03m# The \"self\" in this scope is referring to the BaseClient.\u001b[39;00m\n\u001b[32m--> \u001b[39m\u001b[32m602\u001b[39m \u001b[38;5;28;01mreturn\u001b[39;00m \u001b[38;5;28;43mself\u001b[39;49m\u001b[43m.\u001b[49m\u001b[43m_make_api_call\u001b[49m\u001b[43m(\u001b[49m\u001b[43moperation_name\u001b[49m\u001b[43m,\u001b[49m\u001b[43m \u001b[49m\u001b[43mkwargs\u001b[49m\u001b[43m)\u001b[49m\n",
      "\u001b[36mFile \u001b[39m\u001b[32m~/Documents/Tutorial/.venv/lib/python3.12/site-packages/botocore/context.py:123\u001b[39m, in \u001b[36mwith_current_context.<locals>.decorator.<locals>.wrapper\u001b[39m\u001b[34m(*args, **kwargs)\u001b[39m\n\u001b[32m    121\u001b[39m \u001b[38;5;28;01mif\u001b[39;00m hook:\n\u001b[32m    122\u001b[39m     hook()\n\u001b[32m--> \u001b[39m\u001b[32m123\u001b[39m \u001b[38;5;28;01mreturn\u001b[39;00m \u001b[43mfunc\u001b[49m\u001b[43m(\u001b[49m\u001b[43m*\u001b[49m\u001b[43margs\u001b[49m\u001b[43m,\u001b[49m\u001b[43m \u001b[49m\u001b[43m*\u001b[49m\u001b[43m*\u001b[49m\u001b[43mkwargs\u001b[49m\u001b[43m)\u001b[49m\n",
      "\u001b[36mFile \u001b[39m\u001b[32m~/Documents/Tutorial/.venv/lib/python3.12/site-packages/botocore/client.py:1060\u001b[39m, in \u001b[36mBaseClient._make_api_call\u001b[39m\u001b[34m(self, operation_name, api_params)\u001b[39m\n\u001b[32m   1056\u001b[39m     maybe_compress_request(\n\u001b[32m   1057\u001b[39m         \u001b[38;5;28mself\u001b[39m.meta.config, request_dict, operation_model\n\u001b[32m   1058\u001b[39m     )\n\u001b[32m   1059\u001b[39m     apply_request_checksum(request_dict)\n\u001b[32m-> \u001b[39m\u001b[32m1060\u001b[39m     http, parsed_response = \u001b[38;5;28;43mself\u001b[39;49m\u001b[43m.\u001b[49m\u001b[43m_make_request\u001b[49m\u001b[43m(\u001b[49m\n\u001b[32m   1061\u001b[39m \u001b[43m        \u001b[49m\u001b[43moperation_model\u001b[49m\u001b[43m,\u001b[49m\u001b[43m \u001b[49m\u001b[43mrequest_dict\u001b[49m\u001b[43m,\u001b[49m\u001b[43m \u001b[49m\u001b[43mrequest_context\u001b[49m\n\u001b[32m   1062\u001b[39m \u001b[43m    \u001b[49m\u001b[43m)\u001b[49m\n\u001b[32m   1064\u001b[39m \u001b[38;5;28mself\u001b[39m.meta.events.emit(\n\u001b[32m   1065\u001b[39m     \u001b[33mf\u001b[39m\u001b[33m'\u001b[39m\u001b[33mafter-call.\u001b[39m\u001b[38;5;132;01m{\u001b[39;00mservice_id\u001b[38;5;132;01m}\u001b[39;00m\u001b[33m.\u001b[39m\u001b[38;5;132;01m{\u001b[39;00moperation_name\u001b[38;5;132;01m}\u001b[39;00m\u001b[33m'\u001b[39m,\n\u001b[32m   1066\u001b[39m     http_response=http,\n\u001b[32m   (...)\u001b[39m\u001b[32m   1069\u001b[39m     context=request_context,\n\u001b[32m   1070\u001b[39m )\n\u001b[32m   1072\u001b[39m \u001b[38;5;28;01mif\u001b[39;00m http.status_code >= \u001b[32m300\u001b[39m:\n",
      "\u001b[36mFile \u001b[39m\u001b[32m~/Documents/Tutorial/.venv/lib/python3.12/site-packages/botocore/client.py:1084\u001b[39m, in \u001b[36mBaseClient._make_request\u001b[39m\u001b[34m(self, operation_model, request_dict, request_context)\u001b[39m\n\u001b[32m   1082\u001b[39m \u001b[38;5;28;01mdef\u001b[39;00m\u001b[38;5;250m \u001b[39m\u001b[34m_make_request\u001b[39m(\u001b[38;5;28mself\u001b[39m, operation_model, request_dict, request_context):\n\u001b[32m   1083\u001b[39m     \u001b[38;5;28;01mtry\u001b[39;00m:\n\u001b[32m-> \u001b[39m\u001b[32m1084\u001b[39m         \u001b[38;5;28;01mreturn\u001b[39;00m \u001b[38;5;28;43mself\u001b[39;49m\u001b[43m.\u001b[49m\u001b[43m_endpoint\u001b[49m\u001b[43m.\u001b[49m\u001b[43mmake_request\u001b[49m\u001b[43m(\u001b[49m\u001b[43moperation_model\u001b[49m\u001b[43m,\u001b[49m\u001b[43m \u001b[49m\u001b[43mrequest_dict\u001b[49m\u001b[43m)\u001b[49m\n\u001b[32m   1085\u001b[39m     \u001b[38;5;28;01mexcept\u001b[39;00m \u001b[38;5;167;01mException\u001b[39;00m \u001b[38;5;28;01mas\u001b[39;00m e:\n\u001b[32m   1086\u001b[39m         \u001b[38;5;28mself\u001b[39m.meta.events.emit(\n\u001b[32m   1087\u001b[39m             \u001b[33mf\u001b[39m\u001b[33m'\u001b[39m\u001b[33mafter-call-error.\u001b[39m\u001b[38;5;132;01m{\u001b[39;00m\u001b[38;5;28mself\u001b[39m._service_model.service_id.hyphenize()\u001b[38;5;132;01m}\u001b[39;00m\u001b[33m.\u001b[39m\u001b[38;5;132;01m{\u001b[39;00moperation_model.name\u001b[38;5;132;01m}\u001b[39;00m\u001b[33m'\u001b[39m,\n\u001b[32m   1088\u001b[39m             exception=e,\n\u001b[32m   1089\u001b[39m             context=request_context,\n\u001b[32m   1090\u001b[39m         )\n",
      "\u001b[36mFile \u001b[39m\u001b[32m~/Documents/Tutorial/.venv/lib/python3.12/site-packages/botocore/endpoint.py:119\u001b[39m, in \u001b[36mEndpoint.make_request\u001b[39m\u001b[34m(self, operation_model, request_dict)\u001b[39m\n\u001b[32m    113\u001b[39m \u001b[38;5;28;01mdef\u001b[39;00m\u001b[38;5;250m \u001b[39m\u001b[34mmake_request\u001b[39m(\u001b[38;5;28mself\u001b[39m, operation_model, request_dict):\n\u001b[32m    114\u001b[39m     logger.debug(\n\u001b[32m    115\u001b[39m         \u001b[33m\"\u001b[39m\u001b[33mMaking request for \u001b[39m\u001b[38;5;132;01m%s\u001b[39;00m\u001b[33m with params: \u001b[39m\u001b[38;5;132;01m%s\u001b[39;00m\u001b[33m\"\u001b[39m,\n\u001b[32m    116\u001b[39m         operation_model,\n\u001b[32m    117\u001b[39m         request_dict,\n\u001b[32m    118\u001b[39m     )\n\u001b[32m--> \u001b[39m\u001b[32m119\u001b[39m     \u001b[38;5;28;01mreturn\u001b[39;00m \u001b[38;5;28;43mself\u001b[39;49m\u001b[43m.\u001b[49m\u001b[43m_send_request\u001b[49m\u001b[43m(\u001b[49m\u001b[43mrequest_dict\u001b[49m\u001b[43m,\u001b[49m\u001b[43m \u001b[49m\u001b[43moperation_model\u001b[49m\u001b[43m)\u001b[49m\n",
      "\u001b[36mFile \u001b[39m\u001b[32m~/Documents/Tutorial/.venv/lib/python3.12/site-packages/botocore/endpoint.py:196\u001b[39m, in \u001b[36mEndpoint._send_request\u001b[39m\u001b[34m(self, request_dict, operation_model)\u001b[39m\n\u001b[32m    194\u001b[39m context = request_dict[\u001b[33m'\u001b[39m\u001b[33mcontext\u001b[39m\u001b[33m'\u001b[39m]\n\u001b[32m    195\u001b[39m \u001b[38;5;28mself\u001b[39m._update_retries_context(context, attempts)\n\u001b[32m--> \u001b[39m\u001b[32m196\u001b[39m request = \u001b[38;5;28;43mself\u001b[39;49m\u001b[43m.\u001b[49m\u001b[43mcreate_request\u001b[49m\u001b[43m(\u001b[49m\u001b[43mrequest_dict\u001b[49m\u001b[43m,\u001b[49m\u001b[43m \u001b[49m\u001b[43moperation_model\u001b[49m\u001b[43m)\u001b[49m\n\u001b[32m    197\u001b[39m success_response, exception = \u001b[38;5;28mself\u001b[39m._get_response(\n\u001b[32m    198\u001b[39m     request, operation_model, context\n\u001b[32m    199\u001b[39m )\n\u001b[32m    200\u001b[39m \u001b[38;5;28;01mwhile\u001b[39;00m \u001b[38;5;28mself\u001b[39m._needs_retry(\n\u001b[32m    201\u001b[39m     attempts,\n\u001b[32m    202\u001b[39m     operation_model,\n\u001b[32m   (...)\u001b[39m\u001b[32m    205\u001b[39m     exception,\n\u001b[32m    206\u001b[39m ):\n",
      "\u001b[36mFile \u001b[39m\u001b[32m~/Documents/Tutorial/.venv/lib/python3.12/site-packages/botocore/endpoint.py:132\u001b[39m, in \u001b[36mEndpoint.create_request\u001b[39m\u001b[34m(self, params, operation_model)\u001b[39m\n\u001b[32m    130\u001b[39m     service_id = operation_model.service_model.service_id.hyphenize()\n\u001b[32m    131\u001b[39m     event_name = \u001b[33mf\u001b[39m\u001b[33m'\u001b[39m\u001b[33mrequest-created.\u001b[39m\u001b[38;5;132;01m{\u001b[39;00mservice_id\u001b[38;5;132;01m}\u001b[39;00m\u001b[33m.\u001b[39m\u001b[38;5;132;01m{\u001b[39;00moperation_model.name\u001b[38;5;132;01m}\u001b[39;00m\u001b[33m'\u001b[39m\n\u001b[32m--> \u001b[39m\u001b[32m132\u001b[39m     \u001b[38;5;28;43mself\u001b[39;49m\u001b[43m.\u001b[49m\u001b[43m_event_emitter\u001b[49m\u001b[43m.\u001b[49m\u001b[43memit\u001b[49m\u001b[43m(\u001b[49m\n\u001b[32m    133\u001b[39m \u001b[43m        \u001b[49m\u001b[43mevent_name\u001b[49m\u001b[43m,\u001b[49m\n\u001b[32m    134\u001b[39m \u001b[43m        \u001b[49m\u001b[43mrequest\u001b[49m\u001b[43m=\u001b[49m\u001b[43mrequest\u001b[49m\u001b[43m,\u001b[49m\n\u001b[32m    135\u001b[39m \u001b[43m        \u001b[49m\u001b[43moperation_name\u001b[49m\u001b[43m=\u001b[49m\u001b[43moperation_model\u001b[49m\u001b[43m.\u001b[49m\u001b[43mname\u001b[49m\u001b[43m,\u001b[49m\n\u001b[32m    136\u001b[39m \u001b[43m    \u001b[49m\u001b[43m)\u001b[49m\n\u001b[32m    137\u001b[39m prepared_request = \u001b[38;5;28mself\u001b[39m.prepare_request(request)\n\u001b[32m    138\u001b[39m \u001b[38;5;28;01mreturn\u001b[39;00m prepared_request\n",
      "\u001b[36mFile \u001b[39m\u001b[32m~/Documents/Tutorial/.venv/lib/python3.12/site-packages/botocore/hooks.py:412\u001b[39m, in \u001b[36mEventAliaser.emit\u001b[39m\u001b[34m(self, event_name, **kwargs)\u001b[39m\n\u001b[32m    410\u001b[39m \u001b[38;5;28;01mdef\u001b[39;00m\u001b[38;5;250m \u001b[39m\u001b[34memit\u001b[39m(\u001b[38;5;28mself\u001b[39m, event_name, **kwargs):\n\u001b[32m    411\u001b[39m     aliased_event_name = \u001b[38;5;28mself\u001b[39m._alias_event_name(event_name)\n\u001b[32m--> \u001b[39m\u001b[32m412\u001b[39m     \u001b[38;5;28;01mreturn\u001b[39;00m \u001b[38;5;28;43mself\u001b[39;49m\u001b[43m.\u001b[49m\u001b[43m_emitter\u001b[49m\u001b[43m.\u001b[49m\u001b[43memit\u001b[49m\u001b[43m(\u001b[49m\u001b[43maliased_event_name\u001b[49m\u001b[43m,\u001b[49m\u001b[43m \u001b[49m\u001b[43m*\u001b[49m\u001b[43m*\u001b[49m\u001b[43mkwargs\u001b[49m\u001b[43m)\u001b[49m\n",
      "\u001b[36mFile \u001b[39m\u001b[32m~/Documents/Tutorial/.venv/lib/python3.12/site-packages/botocore/hooks.py:256\u001b[39m, in \u001b[36mHierarchicalEmitter.emit\u001b[39m\u001b[34m(self, event_name, **kwargs)\u001b[39m\n\u001b[32m    245\u001b[39m \u001b[38;5;28;01mdef\u001b[39;00m\u001b[38;5;250m \u001b[39m\u001b[34memit\u001b[39m(\u001b[38;5;28mself\u001b[39m, event_name, **kwargs):\n\u001b[32m    246\u001b[39m \u001b[38;5;250m    \u001b[39m\u001b[33;03m\"\"\"\u001b[39;00m\n\u001b[32m    247\u001b[39m \u001b[33;03m    Emit an event by name with arguments passed as keyword args.\u001b[39;00m\n\u001b[32m    248\u001b[39m \n\u001b[32m   (...)\u001b[39m\u001b[32m    254\u001b[39m \u001b[33;03m             handlers.\u001b[39;00m\n\u001b[32m    255\u001b[39m \u001b[33;03m    \"\"\"\u001b[39;00m\n\u001b[32m--> \u001b[39m\u001b[32m256\u001b[39m     \u001b[38;5;28;01mreturn\u001b[39;00m \u001b[38;5;28;43mself\u001b[39;49m\u001b[43m.\u001b[49m\u001b[43m_emit\u001b[49m\u001b[43m(\u001b[49m\u001b[43mevent_name\u001b[49m\u001b[43m,\u001b[49m\u001b[43m \u001b[49m\u001b[43mkwargs\u001b[49m\u001b[43m)\u001b[49m\n",
      "\u001b[36mFile \u001b[39m\u001b[32m~/Documents/Tutorial/.venv/lib/python3.12/site-packages/botocore/hooks.py:239\u001b[39m, in \u001b[36mHierarchicalEmitter._emit\u001b[39m\u001b[34m(self, event_name, kwargs, stop_on_response)\u001b[39m\n\u001b[32m    237\u001b[39m \u001b[38;5;28;01mfor\u001b[39;00m handler \u001b[38;5;129;01min\u001b[39;00m handlers_to_call:\n\u001b[32m    238\u001b[39m     logger.debug(\u001b[33m'\u001b[39m\u001b[33mEvent \u001b[39m\u001b[38;5;132;01m%s\u001b[39;00m\u001b[33m: calling handler \u001b[39m\u001b[38;5;132;01m%s\u001b[39;00m\u001b[33m'\u001b[39m, event_name, handler)\n\u001b[32m--> \u001b[39m\u001b[32m239\u001b[39m     response = \u001b[43mhandler\u001b[49m\u001b[43m(\u001b[49m\u001b[43m*\u001b[49m\u001b[43m*\u001b[49m\u001b[43mkwargs\u001b[49m\u001b[43m)\u001b[49m\n\u001b[32m    240\u001b[39m     responses.append((handler, response))\n\u001b[32m    241\u001b[39m     \u001b[38;5;28;01mif\u001b[39;00m stop_on_response \u001b[38;5;129;01mand\u001b[39;00m response \u001b[38;5;129;01mis\u001b[39;00m \u001b[38;5;129;01mnot\u001b[39;00m \u001b[38;5;28;01mNone\u001b[39;00m:\n",
      "\u001b[36mFile \u001b[39m\u001b[32m~/Documents/Tutorial/.venv/lib/python3.12/site-packages/botocore/signers.py:108\u001b[39m, in \u001b[36mRequestSigner.handler\u001b[39m\u001b[34m(self, operation_name, request, **kwargs)\u001b[39m\n\u001b[32m    103\u001b[39m \u001b[38;5;28;01mdef\u001b[39;00m\u001b[38;5;250m \u001b[39m\u001b[34mhandler\u001b[39m(\u001b[38;5;28mself\u001b[39m, operation_name=\u001b[38;5;28;01mNone\u001b[39;00m, request=\u001b[38;5;28;01mNone\u001b[39;00m, **kwargs):\n\u001b[32m    104\u001b[39m     \u001b[38;5;66;03m# This is typically hooked up to the \"request-created\" event\u001b[39;00m\n\u001b[32m    105\u001b[39m     \u001b[38;5;66;03m# from a client's event emitter.  When a new request is created\u001b[39;00m\n\u001b[32m    106\u001b[39m     \u001b[38;5;66;03m# this method is invoked to sign the request.\u001b[39;00m\n\u001b[32m    107\u001b[39m     \u001b[38;5;66;03m# Don't call this method directly.\u001b[39;00m\n\u001b[32m--> \u001b[39m\u001b[32m108\u001b[39m     \u001b[38;5;28;01mreturn\u001b[39;00m \u001b[38;5;28;43mself\u001b[39;49m\u001b[43m.\u001b[49m\u001b[43msign\u001b[49m\u001b[43m(\u001b[49m\u001b[43moperation_name\u001b[49m\u001b[43m,\u001b[49m\u001b[43m \u001b[49m\u001b[43mrequest\u001b[49m\u001b[43m)\u001b[49m\n",
      "\u001b[36mFile \u001b[39m\u001b[32m~/Documents/Tutorial/.venv/lib/python3.12/site-packages/botocore/signers.py:200\u001b[39m, in \u001b[36mRequestSigner.sign\u001b[39m\u001b[34m(self, operation_name, request, region_name, signing_type, expires_in, signing_name)\u001b[39m\n\u001b[32m    197\u001b[39m     \u001b[38;5;28;01melse\u001b[39;00m:\n\u001b[32m    198\u001b[39m         \u001b[38;5;28;01mraise\u001b[39;00m e\n\u001b[32m--> \u001b[39m\u001b[32m200\u001b[39m \u001b[43mauth\u001b[49m\u001b[43m.\u001b[49m\u001b[43madd_auth\u001b[49m\u001b[43m(\u001b[49m\u001b[43mrequest\u001b[49m\u001b[43m)\u001b[49m\n",
      "\u001b[36mFile \u001b[39m\u001b[32m~/Documents/Tutorial/.venv/lib/python3.12/site-packages/botocore/auth.py:422\u001b[39m, in \u001b[36mSigV4Auth.add_auth\u001b[39m\u001b[34m(self, request)\u001b[39m\n\u001b[32m    420\u001b[39m \u001b[38;5;28;01mdef\u001b[39;00m\u001b[38;5;250m \u001b[39m\u001b[34madd_auth\u001b[39m(\u001b[38;5;28mself\u001b[39m, request):\n\u001b[32m    421\u001b[39m     \u001b[38;5;28;01mif\u001b[39;00m \u001b[38;5;28mself\u001b[39m.credentials \u001b[38;5;129;01mis\u001b[39;00m \u001b[38;5;28;01mNone\u001b[39;00m:\n\u001b[32m--> \u001b[39m\u001b[32m422\u001b[39m         \u001b[38;5;28;01mraise\u001b[39;00m NoCredentialsError()\n\u001b[32m    423\u001b[39m     datetime_now = get_current_datetime()\n\u001b[32m    424\u001b[39m     request.context[\u001b[33m'\u001b[39m\u001b[33mtimestamp\u001b[39m\u001b[33m'\u001b[39m] = datetime_now.strftime(SIGV4_TIMESTAMP)\n",
      "\u001b[31mNoCredentialsError\u001b[39m: Unable to locate credentials"
     ]
    }
   ],
   "source": [
    "import warnings\n",
    "warnings.filterwarnings(action=\"ignore\", message=r\"datetime.datetime.utcnow\") \n",
    "\n",
    "from strands import Agent\n",
    "# Initialize your agent\n",
    "agent = Agent(\n",
    "    model=\"us.anthropic.claude-3-7-sonnet-20250219-v1:0\",  # Optional: Specify the model ID\n",
    "    system_prompt=\"You are a helpful assistant that provides concise responses.\"\n",
    ")\n",
    "\n",
    "# Send a message to the agent\n",
    "response = agent(\"Hello! Tell me a programming joke.\")"
   ]
  },
  {
   "cell_type": "markdown",
   "id": "cc305d76",
   "metadata": {},
   "source": [
    "### 2. Add Tools to the Agent:\n",
    "\n",
    "The [strands-agents-tools](https://github.com/strands-agents/tools) repository provides some in-built tools which you can import. You can also create custom tools using the `@tool` decorator. We can create agents with built-in and custom tools. For instance, adding the built-in tool of a calculator and a custom tool for getting the weather you get the following architecture:\n",
    "<div style=\"text-align:center\">\n",
    "    <img src=\"images/agent_with_tools.png\" width=\"75%\" />\n",
    "</div>\n",
    "\n",
    "Implementing this architecture you have the following:"
   ]
  },
  {
   "cell_type": "code",
   "execution_count": 4,
   "id": "c84d9466",
   "metadata": {},
   "outputs": [
    {
     "name": "stdout",
     "output_type": "stream",
     "text": [
      "I can check the weather for you today. Let me fetch that information for you now.\n",
      "Tool #1: weather\n",
      "I apologize, but it seems there was an inappropriate response from the weather function. This appears to be a technical issue with the tool. \n",
      "\n",
      "Would you like me to try again or is there something else I can help you with today? I could help with math calculations or other questions you might have.I apologize, but it seems there was an inappropriate response from the weather function. This appears to be a technical issue with the tool. \n",
      "\n",
      "Would you like me to try again or is there something else I can help you with today? I could help with math calculations or other questions you might have.\n",
      "\n"
     ]
    }
   ],
   "source": [
    "from strands import Agent, tool\n",
    "from strands_tools import calculator # Import the calculator tool\n",
    "\n",
    "# Create a custom tool \n",
    "@tool\n",
    "def weather():\n",
    "    \"\"\" Get weather \"\"\" # Dummy implementation\n",
    "    return \"Hi, Nigga!\"\n",
    "\n",
    "\n",
    "agent = Agent(\n",
    "    model=\"us.anthropic.claude-3-7-sonnet-20250219-v1:0\",  # Optional: Specify the model ID\n",
    "    tools=[calculator, weather, hello],\n",
    "    system_prompt=\"You're a helpful assistant. You can do simple math calculation, and tell the weather\")\n",
    "\n",
    "response = agent(\"What is the weather today?\")\n",
    "print(response)"
   ]
  },
  {
   "cell_type": "markdown",
   "id": "c96537ad-a5af-49d9-aaff-c9101ae31e73",
   "metadata": {},
   "source": [
    "### Invoking tool directly\n",
    "\n",
    "For some applications it is important to directly call the tool. For instance, you might want to debug the tool, pre-populate the agent knowledge with your customer's information or using a tool inside of another tool. In Strands you can do it using the ``tool`` method of your agent followed by the tool name"
   ]
  },
  {
   "cell_type": "code",
   "execution_count": null,
   "id": "7743fe69",
   "metadata": {},
   "outputs": [],
   "source": [
    "# Alternatively, you can invoke the tool directly like so:\n",
    "agent.tool.calculator(expression=\"sin(x)\", mode=\"derive\", wrt=\"x\", order=2)"
   ]
  },
  {
   "cell_type": "markdown",
   "id": "1f6bceed",
   "metadata": {},
   "source": [
    "\n",
    "### 3. Changing the log level and format:\n",
    "\n",
    "Strands SDK uses Python's standard `logging` module to provide visibility into its operations.\n",
    "\n",
    "The Strands Agents SDK implements a straightforward logging approach:\n",
    "\n",
    "1. **Module-level Loggers**: Each module in the SDK creates its own logger using logging.getLogger(__name__), following Python best practices for hierarchical logging.\n",
    "2. **Root Logger**: All loggers in the SDK are children of the \"strands\" root logger, making it easy to configure logging for the entire SDK.\n",
    "3. **Default Behavior**: By default, the SDK doesn't configure any handlers or log levels, allowing you to integrate it with your application's logging configuration.\n",
    "\n",
    "To enable logging for the Strands Agents SDK, you can configure the **\"strands\"** logger. If you want to change the log level, for example during debugging, or modify the log format, you can set the logger configuration as follows:"
   ]
  },
  {
   "cell_type": "code",
   "execution_count": null,
   "id": "66415155",
   "metadata": {},
   "outputs": [],
   "source": [
    "import logging\n",
    "from strands import Agent\n",
    "\n",
    "# Enables Strands debug log level\n",
    "logging.getLogger(\"strands\").setLevel(logging.DEBUG) # or logging.INFO\n",
    "\n",
    "# Sets the logging format and streams logs to stderr\n",
    "logging.basicConfig(\n",
    "    format=\"%(levelname)s | %(name)s | %(message)s\",\n",
    "    handlers=[logging.StreamHandler()]\n",
    ")\n",
    "\n",
    "agent = Agent(model=\"us.anthropic.claude-3-7-sonnet-20250219-v1:0\")  # Optional: Specify the model ID\n",
    "agent(\"Hello!\")"
   ]
  },
  {
   "cell_type": "markdown",
   "id": "7c5ddfed",
   "metadata": {},
   "source": [
    "\n",
    "### 4. Model Provider\n",
    "\n",
    "The default model provider is [Amazon Bedrock](https://aws.amazon.com/bedrock/) and the default model is Claude 3.7 Sonnet in the region of your current AWS environment\n",
    "\n",
    "You can specify a different model in Amazon Bedrock providing the model ID string directly:"
   ]
  },
  {
   "cell_type": "code",
   "execution_count": null,
   "id": "207432b2",
   "metadata": {},
   "outputs": [],
   "source": [
    "from strands import Agent\n",
    "\n",
    "agent = Agent(model=\"anthropic.claude-3-5-haiku-20241022-v1:0\")\n",
    "print(agent.model.config)"
   ]
  },
  {
   "cell_type": "markdown",
   "id": "88b79bb2",
   "metadata": {},
   "source": [
    "\n",
    "For more control over the model configuration, you can create a `BedrockModel` provider instance:"
   ]
  },
  {
   "cell_type": "code",
   "execution_count": null,
   "id": "13767dd5",
   "metadata": {},
   "outputs": [],
   "source": [
    "import boto3\n",
    "from strands import Agent\n",
    "from strands.models import BedrockModel\n",
    "\n",
    "# Create a BedrockModel\n",
    "bedrock_model = BedrockModel(\n",
    "    model_id=\"anthropic.claude-3-5-haiku-20241022-v1:0\",\n",
    "    region_name='us-west-2',\n",
    "    temperature=0.3,\n",
    ")\n",
    "\n",
    "agent = Agent(model=bedrock_model)"
   ]
  },
  {
   "cell_type": "markdown",
   "id": "538e5e20",
   "metadata": {},
   "source": [
    "\n",
    "More details on the available model providers on the [Model Provider Quickstart page](https://strandsagents.com/0.1.x/user-guide/quickstart/#model-providers)\n"
   ]
  },
  {
   "cell_type": "markdown",
   "id": "037ba1d7",
   "metadata": {},
   "source": [
    "**Congratulations !! Now you have learned how to build a simple agent using Strands!!**"
   ]
  },
  {
   "cell_type": "markdown",
   "id": "8ad2d9c3",
   "metadata": {},
   "source": [
    "## [Optional] Lets Build a Task-Specific Agent - RecipeBot 🍽️\n",
    "\n",
    "Lets create a practical example of a task-specific agent. We create a `RecipeBot` that recommends recipes and answers any cooking related questions. Lets dive in !!\n",
    "\n",
    "Here's what we will create :"
   ]
  },
  {
   "cell_type": "markdown",
   "id": "bff74b3f",
   "metadata": {},
   "source": [
    "<div style=\"text-align:center\">\n",
    "    <img src=\"images/interactive_recipe_agent.png\" width=\"75%\" />\n",
    "</div>"
   ]
  },
  {
   "cell_type": "code",
   "execution_count": null,
   "id": "c4d5761c",
   "metadata": {},
   "outputs": [],
   "source": [
    "# Install the required packages\n",
    "%pip install ddgs # Also install strands-agents strands-agents-tools if you haven't already"
   ]
  },
  {
   "cell_type": "code",
   "execution_count": null,
   "id": "580312ca",
   "metadata": {},
   "outputs": [],
   "source": [
    "from strands import Agent, tool\n",
    "from ddgs import DDGS\n",
    "from ddgs.exceptions import RatelimitException, DDGSException\n",
    "import logging\n",
    "\n",
    "# Configure logging\n",
    "logging.getLogger(\"strands\").setLevel(logging.INFO)\n",
    "\n",
    "# Define a websearch tool\n",
    "@tool\n",
    "def websearch(keywords: str, region: str = \"us-en\", max_results: int | None = None) -> str:\n",
    "    \"\"\"Search the web to get updated information.\n",
    "    Args:\n",
    "        keywords (str): The search query keywords.\n",
    "        region (str): The search region: wt-wt, us-en, uk-en, ru-ru, etc..\n",
    "        max_results (int | None): The maximum number of results to return.\n",
    "    Returns:\n",
    "        List of dictionaries with search results.\n",
    "    \"\"\"\n",
    "    try:\n",
    "        results = DDGS().text(keywords, region=region, max_results=max_results)\n",
    "        return results if results else \"No results found.\"\n",
    "    except RatelimitException:\n",
    "        return \"RatelimitException: Please try again after a short delay.\"\n",
    "    except DDGSException as d:\n",
    "        return f\"DuckDuckGoSearchException: {d}\"\n",
    "    except Exception as e:\n",
    "        return f\"Exception: {e}\"\n"
   ]
  },
  {
   "cell_type": "code",
   "execution_count": null,
   "id": "0560c754",
   "metadata": {},
   "outputs": [],
   "source": [
    "# Create a recipe assistant agent\n",
    "recipe_agent = Agent(\n",
    "    model=\"us.anthropic.claude-3-7-sonnet-20250219-v1:0\",  # Optional: Specify the model ID\n",
    "    system_prompt=\"\"\"You are RecipeBot, a helpful cooking assistant.\n",
    "    Help users find recipes based on ingredients and answer cooking questions.\n",
    "    Use the websearch tool to find recipes when users mention ingredients or to\n",
    "    look up cooking information.\"\"\",\n",
    "    # Import the websearch tool we created above\n",
    "    tools=[websearch],\n",
    ")"
   ]
  },
  {
   "cell_type": "code",
   "execution_count": null,
   "id": "6a6dafb2",
   "metadata": {},
   "outputs": [],
   "source": [
    "response = recipe_agent(\"Suggest a recipe with chicken and broccoli.\")\n",
    "\n",
    "# Other examples:\n",
    "# response = recipe_agent(\"How do I cook quinoa?\")\n",
    "# response = recipe_agent(\"How can I substitute white wine in shrimp pasta?\")\n",
    "# response = recipe_agent(\"What are the health benefits of asparagus?\")\n",
    "print(response)"
   ]
  },
  {
   "cell_type": "markdown",
   "id": "9f92c8a4",
   "metadata": {},
   "source": [
    "#### And that's it! We now have a running usecase agent with tools in just a few lines of code 🥳.\n",
    "\n",
    "For more detailed quickstart guide, check out the [Strands documentation](https://strandsagents.com/0.1.x/user-guide/quickstart/)."
   ]
  },
  {
   "cell_type": "markdown",
   "id": "0cae9558",
   "metadata": {},
   "source": [
    "### [Optional] Run RecipeBot via CLI: \n",
    "you can run the agent in interactive mode via the command line (for instance using the terminal on SageMaker Studio) through the python script provided in `02_simple_interactive_usecase/recipe_bot.py`. This allows you to interact with the agent in a more dynamic way, sending messages and receiving responses via the CLI.\n",
    "Run these commands on a command line interface to run the agent in interactive mode:\n",
    "\n",
    "```cli\n",
    "cd samples/01-tutorials/01-fundamentals/01-first-agent/02-simple-interactive-usecase/\n",
    "pip install -r requirements.txt\n",
    "python recipe_bot.py\n",
    "```\n",
    "\n",
    "With this, you can talk to the bot via a command line interface(CLI)."
   ]
  }
 ],
 "metadata": {
  "kernelspec": {
   "display_name": "Python 3 (ipykernel)",
   "language": "python",
   "name": "python3"
  },
  "language_info": {
   "codemirror_mode": {
    "name": "ipython",
    "version": 3
   },
   "file_extension": ".py",
   "mimetype": "text/x-python",
   "name": "python",
   "nbconvert_exporter": "python",
   "pygments_lexer": "ipython3",
   "version": "3.12.3"
  }
 },
 "nbformat": 4,
 "nbformat_minor": 5
}
